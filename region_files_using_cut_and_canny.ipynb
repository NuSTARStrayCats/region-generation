{
 "cells": [
  {
   "cell_type": "code",
   "execution_count": 2,
   "metadata": {},
   "outputs": [],
   "source": [
    "#import necessary packages\n",
    "import numpy as np\n",
    "import matplotlib.pyplot as plt\n",
    "from astropy.io import fits\n",
    "from scipy import ndimage as ndi\n",
    "from skimage import feature"
   ]
  },
  {
   "cell_type": "markdown",
   "metadata": {},
   "source": [
    "## Prepare Event File For Edge Detection \n",
    "-  Open event file in ds9, make an annulus region around any bright sources and make new event file with bright source removed in xselect \n",
    "- If doing background subtraction later, this would be the time to make a background region file too"
   ]
  },
  {
   "cell_type": "code",
   "execution_count": 126,
   "metadata": {},
   "outputs": [
    {
     "name": "stdout",
     "output_type": "stream",
     "text": [
      "/Users/ellenthompson/Desktop/SL_Analysis/60101077002/event_cl\n"
     ]
    }
   ],
   "source": [
    "#navigate to event file location\n",
    "%cd Desktop/SL_Analysis/60101077002/event_cl/"
   ]
  },
  {
   "cell_type": "code",
   "execution_count": 178,
   "metadata": {},
   "outputs": [],
   "source": [
    "#plug in name of event file\n",
    "name_of_event_file = \"nu60101077002B01_cl.evt\"\n",
    "\n",
    "#define energy cut variables\n",
    "energy_cut_channel_min = 36\n",
    "energy_cut_channel_max = 460\n",
    "\n",
    "#region file parameters (style options set to DS9 default, in image coords)\n",
    "parameters_string = \"#Region file format: DS9 version 4.1\\nglobal color=green dashlist=8 3 width=1 font= 'helvetica 10 normal roman' select=1 highlite=1 dash=0 fixed=0 edit=1 move=1 delete=1 include=1 source=1\\nimage\\npolygon\"\n",
    "\n",
    "#region file title, output location is same as input\n",
    "region_file_title = \"new_region_b.reg\""
   ]
  },
  {
   "cell_type": "code",
   "execution_count": 179,
   "metadata": {},
   "outputs": [],
   "source": [
    "#open data\n",
    "hdul = fits.open(name_of_event_file)\n",
    "\n",
    "#move into 2nd hdu\n",
    "data = hdul[1].data\n",
    "\n",
    "#define variables for det1x, det1y, and PI\n",
    "DET1X = data[\"DET1X\"]\n",
    "DET1Y = data[\"DET1Y\"]\n",
    "PI = data[\"PI\"]"
   ]
  },
  {
   "cell_type": "markdown",
   "metadata": {},
   "source": [
    "## Energy Cut (might remove this option entirely)\n",
    "- User defined low and high channels \n",
    "    - could rewrite to take in ev values instead\n",
    "- Default is 3 to 10 keV, only change if\n",
    "no sigma gives a good canny edge detection"
   ]
  },
  {
   "cell_type": "code",
   "execution_count": 180,
   "metadata": {},
   "outputs": [],
   "source": [
    "#energy cut using PI column (background varies more across high than low energies)\n",
    "del_PI_indices = [i for i, x in enumerate(PI) if x<=energy_cut_channel_min or x>=energy_cut_channel_max]\n",
    "cut_DET1X = np.delete(DET1X, del_PI_indices)\n",
    "cut_DET1Y = np.delete(DET1Y, del_PI_indices)"
   ]
  },
  {
   "cell_type": "markdown",
   "metadata": {},
   "source": [
    "## Canny Edge Detection\n",
    "- Plots generated here are oriented differently than when the event file is loaded into ds9, but no translations are necessary for the region file to be correct\n",
    "- Need to readjust sigma from default if wrong detector edges, cut-out-point-source boundary, or some background noise detected as edges. Noise inside the SL region is OK\n",
    "    - If no sigma (between max noise and blank image) gives a good SL region perimeter, go back and change energy bounds (3 to 20 keV usually works) then run energy cut and canny again\n"
   ]
  },
  {
   "cell_type": "code",
   "execution_count": 181,
   "metadata": {},
   "outputs": [],
   "source": [
    "#generate region file image with energy cut\n",
    "cut_counts_arrays = np.histogram2d(cut_DET1X, cut_DET1Y, [360,360], range=[[0,360],[0,360]])\n",
    "cut_counts = np.hstack(cut_counts_arrays[0])\n",
    "cut_counts_binned = np.split(cut_counts,360)\n",
    "im = np.column_stack(cut_counts_binned)"
   ]
  },
  {
   "cell_type": "code",
   "execution_count": 182,
   "metadata": {},
   "outputs": [],
   "source": [
    "#calculate standard deviation - this rule doesn't always work, often need to adjust sigma case-by-case\n",
    "sigma = 10*np.std(cut_counts)"
   ]
  },
  {
   "cell_type": "code",
   "execution_count": 193,
   "metadata": {
    "scrolled": true
   },
   "outputs": [
    {
     "data": {
      "image/png": "[encoded data removed]",
      "text/plain": [
       "<Figure size 576x360 with 2 Axes>"
      ]
     },
     "metadata": {
      "needs_background": "light"
     },
     "output_type": "display_data"
    }
   ],
   "source": [
    "#compute the Canny filter, adjust sigma as necessary \n",
    "edges = feature.canny(im, sigma=3.9)\n",
    "#display results\n",
    "fig, (ax1, ax2) = plt.subplots(nrows=1, ncols=2, figsize=(8, 5), sharex=True, sharey=True)\n",
    "\n",
    "ax1.imshow(im, cmap=plt.cm.gray)\n",
    "ax1.axis('off')\n",
    "ax1.set_title('Original', fontsize=15)\n",
    "\n",
    "ax2.imshow(edges, cmap=plt.cm.gray)\n",
    "ax2.axis('off')\n",
    "ax2.set_title(r'Canny Filter, $\\sigma='+str(sigma)+'$', fontsize=15)\n",
    "#ax2.set_title(r'Canny Filter, $\\sigma=8$', fontsize=15)\n",
    "\n",
    "fig.tight_layout()\n",
    "\n",
    "plt.show()"
   ]
  },
  {
   "cell_type": "markdown",
   "metadata": {},
   "source": [
    "## Get Region File Coordinates\n"
   ]
  },
  {
   "cell_type": "code",
   "execution_count": 190,
   "metadata": {},
   "outputs": [],
   "source": [
    "#get detected edge coordinates \n",
    "indices = np.where(edges != [0])\n",
    "x_coords = list(indices[1])\n",
    "y_coords = list(indices[0])\n",
    "\n",
    "#identify region polygon corners, start with deleting duplicate x coords\n",
    "region_cols = list(set(x_coords)) \n",
    "\n",
    "#find SL curve perimeter coords left to right\n",
    "curve_perimeter_coords_1 = []\n",
    "for i in region_cols:\n",
    "    if i in curve_perimeter_coords_1:\n",
    "            pass\n",
    "    else:\n",
    "        curve_perimeter_coords_1.append(i)\n",
    "        y_coord_indices =[j for j, x in enumerate(x_coords) if x == i]\n",
    "        y_coords_for_i = []\n",
    "        for i in y_coord_indices:\n",
    "            y_coords_for_i.append(y_coords[i])\n",
    "        curve_perimeter_coords_1.append(max(y_coords_for_i))\n",
    "\n",
    "#start listing polygon corners with curve perimeter \n",
    "corners = []\n",
    "for i in curve_perimeter_coords_1:\n",
    "    corners.append(i)\n",
    "    \n",
    "\n",
    "#loop back right to left\n",
    "region_cols_2 = region_cols[::-1]\n",
    "\n",
    "#find SL curve perimeter coords right to left\n",
    "curve_perimeter_coords_2 = []\n",
    "for i in region_cols_2:\n",
    "    if i in curve_perimeter_coords_2:\n",
    "            pass\n",
    "    else:\n",
    "        curve_perimeter_coords_2.append(i)\n",
    "        y_coord_indices =[j for j, x in enumerate(x_coords) if x == i]\n",
    "        y_coords_for_i = []\n",
    "        for i in y_coord_indices:\n",
    "            y_coords_for_i.append(y_coords[i])\n",
    "        curve_perimeter_coords_2.append(min(y_coords_for_i))\n",
    "\n",
    "#add 2nd half of coords to corners\n",
    "for i in curve_perimeter_coords_2:\n",
    "    corners.append(i)\n",
    "\n",
    "\n"
   ]
  },
  {
   "cell_type": "markdown",
   "metadata": {},
   "source": [
    "## Write Region File"
   ]
  },
  {
   "cell_type": "code",
   "execution_count": 191,
   "metadata": {},
   "outputs": [],
   "source": [
    "#write region file\n",
    "region_file = open(region_file_title, \"w\")\n",
    "region_file.write(parameters_string + str(tuple(corners)))\n",
    "region_file.close()"
   ]
  }
 ],
 "metadata": {
  "kernelspec": {
   "display_name": "Python 3",
   "language": "python",
   "name": "python3"
  },
  "language_info": {
   "codemirror_mode": {
    "name": "ipython",
    "version": 3
   },
   "file_extension": ".py",
   "mimetype": "text/x-python",
   "name": "python",
   "nbconvert_exporter": "python",
   "pygments_lexer": "ipython3",
   "version": "3.7.6"
  }
 },
 "nbformat": 4,
 "nbformat_minor": 4
}
