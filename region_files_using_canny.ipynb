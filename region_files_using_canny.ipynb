{
 "cells": [
  {
   "cell_type": "code",
   "execution_count": 15,
   "metadata": {},
   "outputs": [],
   "source": [
    "#import necessary packages\n",
    "import numpy as np\n",
    "import matplotlib.pyplot as plt\n",
    "from astropy.io import fits\n",
    "from scipy import ndimage as ndi\n",
    "from skimage import feature"
   ]
  },
  {
   "cell_type": "code",
   "execution_count": 96,
   "metadata": {},
   "outputs": [
    {
     "name": "stdout",
     "output_type": "stream",
     "text": [
      "/Users/ellenthompson\n"
     ]
    }
   ],
   "source": [
    "%cd"
   ]
  },
  {
   "cell_type": "code",
   "execution_count": 97,
   "metadata": {},
   "outputs": [
    {
     "name": "stdout",
     "output_type": "stream",
     "text": [
      "/Users/ellenthompson/Desktop/SL_Analysis/60061213002/event_cl\n"
     ]
    }
   ],
   "source": [
    "#navigate to event file location\n",
    "%cd Desktop/SL_Analysis/60061213002/event_cl/"
   ]
  },
  {
   "cell_type": "code",
   "execution_count": 106,
   "metadata": {},
   "outputs": [],
   "source": [
    "#plug in name of event file\n",
    "name_of_event_file = \"nu60061213002A01_cl.evt\"\n",
    "\n",
    "#define energy cut variables\n",
    "energy_cut_channel_min = 36\n",
    "energy_cut_channel_max = 1935\n",
    "\n",
    "#region file parameters (style options set to DS9 default, in image coords)\n",
    "parameters_string = \"#Region file format: DS9 version 4.1\\nglobal color=green dashlist=8 3 width=1 font= 'helvetica 10 normal roman' select=1 highlite=1 dash=0 fixed=0 edit=1 move=1 delete=1 include=1 source=1\\nimage\\npolygon\"\n",
    "\n",
    "#region file title, output location is same as input\n",
    "region_file_title = \"60061213002A01_polygon_reg\""
   ]
  },
  {
   "cell_type": "code",
   "execution_count": 107,
   "metadata": {},
   "outputs": [],
   "source": [
    "#open data\n",
    "hdul = fits.open(name_of_event_file)\n",
    "\n",
    "#move into 2nd hdu\n",
    "data = hdul[1].data\n",
    "\n",
    "#define variables for det1x, det1y, and PI\n",
    "DET1X = data[\"DET1X\"]\n",
    "DET1Y = data[\"DET1Y\"]\n",
    "PI = data[\"PI\"]"
   ]
  },
  {
   "cell_type": "markdown",
   "metadata": {},
   "source": [
    "## Energy Cut\n",
    "- User defined low and high channels \n",
    "    - could rewrite to take in ev values instead\n",
    "- Need to determine best bounds for SL? Variation differs between event files"
   ]
  },
  {
   "cell_type": "code",
   "execution_count": 108,
   "metadata": {},
   "outputs": [],
   "source": [
    "#energy cut using PI column (background varies more across high than low energies)\n",
    "del_PI_indices = [i for i, x in enumerate(PI) if x<=energy_cut_channel_min or x>=energy_cut_channel_max]\n",
    "cut_DET1X = np.delete(DET1X, del_PI_indices)\n",
    "cut_DET1Y = np.delete(DET1Y, del_PI_indices)"
   ]
  },
  {
   "cell_type": "markdown",
   "metadata": {},
   "source": [
    "## Canny Edge Detection\n",
    "- Note: plots generated here are oriented differently than when event file is loaded into ds9 but no translations necessary for region file to be correct\n",
    "- Currently need to adjust sigma case-by-case such that plot shows no non-SL region edges identified as edges\n",
    "- Currently finds edges for full region, have written some code that divides by detector "
   ]
  },
  {
   "cell_type": "code",
   "execution_count": 109,
   "metadata": {},
   "outputs": [],
   "source": [
    "#generate region file image\n",
    "cut_counts_arrays = np.histogram2d(cut_DET1X, cut_DET1Y, [360,360], range=[[0,360],[0,360]])\n",
    "cut_counts = np.hstack(cut_counts_arrays[0])\n",
    "cut_counts_binned = np.split(cut_counts,360)\n",
    "im = np.column_stack(cut_counts_binned)"
   ]
  },
  {
   "cell_type": "code",
   "execution_count": 115,
   "metadata": {},
   "outputs": [],
   "source": [
    "#calculate standard deviation\n",
    "counts_arrays = np.histogram2d(DET1X,DET1Y, [360,360], range=[[0,360],[0,360]])\n",
    "counts_array = np.hstack(cut_counts_arrays[0])\n",
    "\n",
    "sigma = 11*np.std(counts_array)"
   ]
  },
  {
   "cell_type": "code",
   "execution_count": 112,
   "metadata": {
    "scrolled": false
   },
   "outputs": [
    {
     "data": {
      "image/png": "[encoded data removed]",
      "text/plain": [
       "<Figure size 576x360 with 2 Axes>"
      ]
     },
     "metadata": {
      "needs_background": "light"
     },
     "output_type": "display_data"
    }
   ],
   "source": [
    "\n",
    "\n",
    "#compute the Canny filter for some value of sigma (set here to lowest value that works for my example)\n",
    "edges = feature.canny(im, sigma=6)\n",
    "\n",
    "#display results\n",
    "fig, (ax1, ax2) = plt.subplots(nrows=1, ncols=2, figsize=(8, 5), sharex=True, sharey=True)\n",
    "\n",
    "ax1.imshow(im, cmap=plt.cm.gray)\n",
    "ax1.axis('off')\n",
    "ax1.set_title('Original', fontsize=15)\n",
    "\n",
    "ax2.imshow(edges, cmap=plt.cm.gray)\n",
    "ax2.axis('off')\n",
    "ax2.set_title(r'Canny Filter, $\\sigma='+str(sigma)+'$', fontsize=15)\n",
    "\n",
    "fig.tight_layout()\n",
    "\n",
    "plt.show()"
   ]
  },
  {
   "cell_type": "markdown",
   "metadata": {},
   "source": [
    "## Get Region File Coordinates\n",
    "- Have only tried running for majority Detector 3 SL, may need to tweak for different orientations"
   ]
  },
  {
   "cell_type": "code",
   "execution_count": 113,
   "metadata": {},
   "outputs": [],
   "source": [
    "#get detected edge coordinates \n",
    "indices = np.where(edges != [0])\n",
    "x_coords = list(indices[1])\n",
    "y_coords = list(indices[0])\n",
    "\n",
    "#identify region polygon corners, start with deleting duplicate x coords\n",
    "region_cols = list(set(x_coords)) \n",
    "\n",
    "#find SL curve perimeter coords\n",
    "curve_perimeter_coords = []\n",
    "for i in region_cols:\n",
    "    if i in curve_perimeter_coords:\n",
    "            pass\n",
    "    else:\n",
    "        curve_perimeter_coords.append(i)\n",
    "        y_coord_indices =[j for j, x in enumerate(x_coords) if x == i]\n",
    "        y_coords_for_i = []\n",
    "        for i in y_coord_indices:\n",
    "            y_coords_for_i.append(y_coords[i])\n",
    "        curve_perimeter_coords.append(max(y_coords_for_i))\n",
    "\n",
    "#start listing polygon corners with curve perimeter \n",
    "corners = []\n",
    "for i in curve_perimeter_coords:\n",
    "    corners.append(i)\n",
    "\n",
    "#identify and add edge corners\n",
    "upper_right_x = max(x_coords)\n",
    "upper_right_y = curve_perimeter_coords[-1]\n",
    "lower_right_x = max(x_coords)\n",
    "lower_right_y = min(y_coords)\n",
    "lower_left_x = min(x_coords)\n",
    "lower_left_y = min(y_coords)\n",
    "\n",
    "edge_corners = (upper_right_x,upper_right_y,lower_right_x,lower_right_y,lower_left_x,lower_left_y)\n",
    "\n",
    "for i in edge_corners:\n",
    "    corners.append(i)"
   ]
  },
  {
   "cell_type": "code",
   "execution_count": 114,
   "metadata": {},
   "outputs": [],
   "source": [
    "#write region file\n",
    "det2_region_file_title = region_file_title + \".reg\"\n",
    "det2_region_file = open(det2_region_file_title, \"w\")\n",
    "det2_region_file.write(parameters_string + str(tuple(corners)))\n",
    "det2_region_file.close()"
   ]
  },
  {
   "cell_type": "code",
   "execution_count": null,
   "metadata": {},
   "outputs": [],
   "source": []
  }
 ],
 "metadata": {
  "kernelspec": {
   "display_name": "Python 3",
   "language": "python",
   "name": "python3"
  },
  "language_info": {
   "codemirror_mode": {
    "name": "ipython",
    "version": 3
   },
   "file_extension": ".py",
   "mimetype": "text/x-python",
   "name": "python",
   "nbconvert_exporter": "python",
   "pygments_lexer": "ipython3",
   "version": "3.7.6"
  }
 },
 "nbformat": 4,
 "nbformat_minor": 4
}
